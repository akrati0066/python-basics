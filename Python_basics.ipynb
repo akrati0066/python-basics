{
  "nbformat": 4,
  "nbformat_minor": 0,
  "metadata": {
    "colab": {
      "provenance": []
    },
    "kernelspec": {
      "name": "python3",
      "display_name": "Python 3"
    },
    "language_info": {
      "name": "python"
    }
  },
  "cells": [
    {
      "cell_type": "markdown",
      "source": [
        "# Ques 1: What is Python, and why is it popular ?\n",
        "# Ans- Python is a high level,versatile programming language known for its simplicity and readability.\n",
        "# Python is popular because:\n",
        "# (i) easy to learn\n",
        "# (ii) versatile(web,data,AI,automation)\n",
        "# (iii) large community\n",
        "# (iv) extensive libraries\n",
        "\n",
        "#Python's simplicity,flexibiblity and wide range of applications make it a popular choice among developers and data scientists."
      ],
      "metadata": {
        "id": "QpNXMSZYn9jG"
      }
    },
    {
      "cell_type": "markdown",
      "source": [
        "# Ques 2: What is an interpreter in Python?\n",
        "#Ans- An interpreter is a program that reads and executes python code line  by line. It converts high-level code into machine-readable instructions during runtime."
      ],
      "metadata": {
        "id": "sxQ7TumyvrQG"
      }
    },
    {
      "cell_type": "code",
      "source": [],
      "metadata": {
        "id": "aB4XoUpCwU8w"
      },
      "execution_count": null,
      "outputs": []
    },
    {
      "cell_type": "markdown",
      "source": [
        "#Ques 3: What are pre-defined keywords in Python ?\n",
        "#Ans- Keywords are reserved words that have special meaning in python.They are used to define the syntax and structure of python programs.\n",
        "#Examples: if,for,while,def,class,True,False,None,return etc."
      ],
      "metadata": {
        "id": "NiVGUs5xweJO"
      }
    },
    {
      "cell_type": "markdown",
      "source": [
        "#Ques 4:Can keywords be used as variable names ?\n",
        "#Ans: No, keywords cannot be used as variables names because they are reserved for Python's syntax.\n",
        "\n"
      ],
      "metadata": {
        "id": "NhBdmG1ixB5Q"
      }
    },
    {
      "cell_type": "markdown",
      "source": [
        "#Ques 5: What is mutability in Python ?\n",
        "#Ans- Mutability refers to whether an object's value can be changed after it is created.\n",
        "#-Mutability : Can be changed (e.g. list,dict)\n",
        "#- Immutable: Cannot be changed (e.g. tuple, str)"
      ],
      "metadata": {
        "id": "CE0OG56PxWSj"
      }
    },
    {
      "cell_type": "markdown",
      "source": [
        "#Ques 6:Why are lists mutable, but tuples are immutable ?\n",
        "#Ans: Lists are designed for data that may change - you can add, remove or modify items.\n",
        "#Tuples are meant to store fixed collections of data,often used for safety and performance."
      ],
      "metadata": {
        "id": "Bgknok9FzWyN"
      }
    },
    {
      "cell_type": "markdown",
      "source": [
        "#Ques 7: What is the difference between “==” and “is” operators in Python ?\n",
        "#Ans: \"==\" checks value equality\n",
        "# \"a==b\" true if both values are equal.\n",
        "#"
      ],
      "metadata": {
        "id": "e_-kSIchzyDb"
      }
    },
    {
      "cell_type": "code",
      "source": [],
      "metadata": {
        "id": "Pi_F6PXQxT62"
      },
      "execution_count": null,
      "outputs": []
    }
  ]
}